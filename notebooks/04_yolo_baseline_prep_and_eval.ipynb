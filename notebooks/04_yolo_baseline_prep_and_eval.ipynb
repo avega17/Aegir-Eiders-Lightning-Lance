{
 "cells": [
  {"cell_type":"markdown","metadata":{},"source":["# YOLO Baseline Prep & Eval (Outline)\n","- Convert masks to YOLO segmentation format (skeleton only)\n","- Train baseline\n","- Compare with SMP results (later)"]}
 ],
 "metadata": {"kernelspec": {"display_name": "Python 3", "language": "python", "name": "python3"}},
 "nbformat": 4,
 "nbformat_minor": 5
}


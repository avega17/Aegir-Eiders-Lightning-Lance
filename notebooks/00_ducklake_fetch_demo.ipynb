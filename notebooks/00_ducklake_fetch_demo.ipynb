{
 "cells": [
  {
   "cell_type": "markdown",
   "id": "dbc047b9",
   "metadata": {},
   "source": [
    "# Demoing fetching PV locations from DuckLake into a LanceDB dataset\n",
    "\n"
   ]
  },
  {
   "cell_type": "markdown",
   "id": "e419c6b6",
   "metadata": {},
   "source": [
    "### References:\n",
    "- [DuckLake Documentation](https://ducklake.select/docs/stable/)\n",
    "- [DuckLake with Ibis Python DataFrames](https://emilsadek.com/blog/ducklake-ibis/)\n",
    "- [A new data lakehouse with DuckLake and dbt](https://giacomo.coletto.io/blog/ducklake/)"
   ]
  },
  {
   "cell_type": "code",
   "execution_count": 1,
   "id": "776bafad",
   "metadata": {},
   "outputs": [],
   "source": [
    "import ibis\n",
    "import duckdb\n",
    "import pandas as pd\n",
    "\n",
    "from tqdm import tqdm\n",
    "from dotenv import load_dotenv\n",
    "\n",
    "import os\n",
    "import shutil"
   ]
  },
  {
   "cell_type": "code",
   "execution_count": 2,
   "id": "f3c79ae2",
   "metadata": {},
   "outputs": [
    {
     "name": "stdout",
     "output_type": "stream",
     "text": [
      "Using DuckLake catalog type: postgres\n",
      "  dbname: ducklake_catalog\n",
      "  host: ep-broad-rain-a4tdwnxn-pooler.us-east-1.aws.neon.tech\n",
      "  user: neondb_owner\n",
      "  password: npg_y0ViUzD1Xulc\n",
      "  port: 5432\n",
      "  sslmode: require\n",
      "  DATA_PATH: 's3://eo-pv-lakehouse/ducklake_data'\n"
     ]
    }
   ],
   "source": [
    "ibis.options.interactive = True\n",
    "ibis.options.graphviz_repr=True\n",
    "\n",
    "load_dotenv()\n",
    "\n",
    "# assume we're using prod catalog, but default to local/dev if env var not set\n",
    "local_default = os.getenv('DUCKLAKE_CONNECTION_STRING_DEV')\n",
    "DUCKLAKE_CATALOG = os.getenv('DUCKLAKE_CONNECTION_STRING_PROD', local_default)\n",
    "DUCKLAKE_ATTACH = os.getenv(\"DUCKLAKE_ATTACH_PROD\")\n",
    "DUCKLAKE_NAME = os.getenv(\"DUCKLAKE_NAME\")\n",
    "DUCKLAKE_DATA_PATH = os.getenv(\"DUCKLAKE_DATA_PATH\")\n",
    "\n",
    "# pretty print our connection string info \n",
    "# TODO: comment out and remove output before commit\n",
    "print(f\"Using DuckLake catalog type: {DUCKLAKE_CATALOG.split(':')[1]}\" )\n",
    "catalog_creds = DUCKLAKE_CATALOG.split(':')[2].strip('()').split(' ')\n",
    "# skip DATA_PATH at end\n",
    "for cred in catalog_creds[:-2]:\n",
    "    key, val = cred.split('=')\n",
    "    print(f\"  {key}: {val}\")\n",
    "print(f\"  DATA_PATH: {DUCKLAKE_CATALOG.split('DATA_PATH ')[1][:-1]}\")"
   ]
  },
  {
   "cell_type": "markdown",
   "id": "563012e9",
   "metadata": {},
   "source": [
    "### Connect to our data lake catalog with ibis \n",
    "\n"
   ]
  },
  {
   "cell_type": "code",
   "execution_count": 3,
   "id": "12bea8b5",
   "metadata": {},
   "outputs": [
    {
     "data": {
      "text/plain": [
       "<duckdb.duckdb.DuckDBPyConnection at 0x11c4078b0>"
      ]
     },
     "execution_count": 3,
     "metadata": {},
     "output_type": "execute_result"
    }
   ],
   "source": [
    "\n",
    "con = ibis.duckdb.connect(extensions=[\"ducklake\", \"spatial\", \"httpfs\"])\n",
    "\n",
    "r2_bucket_setup = f\"\"\"SET s3_access_key_id='{os.getenv('R2_ACCESS_KEY_ID')}';\n",
    "SET s3_secret_access_key='{os.getenv('R2_SECRET_KEY')}';\n",
    "SET s3_endpoint='{os.getenv('R2_S3_ENDPOINT')}';\n",
    "SET s3_use_ssl='true';\n",
    "SET s3_url_style='path';\n",
    "\"\"\"\n",
    "con.raw_sql(r2_bucket_setup)"
   ]
  },
  {
   "cell_type": "code",
   "execution_count": 4,
   "id": "578360db",
   "metadata": {},
   "outputs": [
    {
     "data": {
      "text/plain": [
       "['__ducklake_metadata_eo_pv_lakehouse',\n",
       " 'eo_pv_lakehouse',\n",
       " 'memory',\n",
       " 'system',\n",
       " 'temp']"
      ]
     },
     "execution_count": 4,
     "metadata": {},
     "output_type": "execute_result"
    }
   ],
   "source": [
    "# con.load_extension(\"ducklake\")\n",
    "attach_catalog_sql = f\"\"\"ATTACH IF NOT EXISTS '{DUCKLAKE_ATTACH}' AS {DUCKLAKE_NAME}\n",
    "    (DATA_PATH '{DUCKLAKE_DATA_PATH}');\n",
    "USE {DUCKLAKE_NAME};\n",
    "\"\"\"\n",
    "con.raw_sql(attach_catalog_sql)\n",
    "con.list_catalogs()"
   ]
  },
  {
   "cell_type": "code",
   "execution_count": 5,
   "id": "b93bad6a",
   "metadata": {},
   "outputs": [
    {
     "data": {
      "text/plain": [
       "['pv_h3_cells',\n",
       " 'pv_h3_grid',\n",
       " 'raw_chn_med_res_pv_2024',\n",
       " 'raw_global_harmonized_large_solar_farms_2020',\n",
       " 'raw_global_pv_inventory_sent2_spot_2021',\n",
       " 'raw_ind_pv_solar_farms_2022',\n",
       " 'raw_uk_crowdsourced_pv_2020',\n",
       " 'raw_usa_cali_usgs_pv_2016',\n",
       " 'stg_chn_med_res_pv_2024',\n",
       " 'stg_global_harmonized_large_solar_farms_2020',\n",
       " 'stg_global_pv_inventory_sent2_spot_2021',\n",
       " 'stg_ind_pv_solar_farms_2022',\n",
       " 'stg_pv_consolidated',\n",
       " 'stg_uk_crowdsourced_pv_2020',\n",
       " 'stg_usa_cali_usgs_pv_2016']"
      ]
     },
     "execution_count": 5,
     "metadata": {},
     "output_type": "execute_result"
    }
   ],
   "source": [
    "con.list_tables()"
   ]
  },
  {
   "cell_type": "code",
   "execution_count": 6,
   "id": "7663a706",
   "metadata": {},
   "outputs": [
    {
     "data": {
      "text/html": [
       "<pre style=\"white-space:pre;overflow-x:auto;line-height:normal;font-family:Menlo,'DejaVu Sans Mono',consolas,'Courier New',monospace\">┏━━━━━━━━━━━━━━━━━━━━━━━━━━━━━━━━━━━━━┳━━━━━━━━━━━━━━━━━━━━━━━━━━━━━━━┳━━━━━━━━━━━━━━━━━━━━━━━━━━━━━━━━━━━━━━━━━━━━━━━━━━━━━━━━━━━━━━━━━━━━━━━━━━━━━━━━━━┳━━━━━━━━━━━━━━┳━━━━━━━━━━━━━━┳━━━━━━━━━━━━━━┳━━━━━━━━━━━━━━━━━━━━┳━━━━━━━━━━━━┳━━━━━━━━━━━━━━━━┳━━━━━━━━━━━━━┳━━━━━━━━━━━━━━┓\n",
       "┃<span style=\"font-weight: bold\"> dataset_name                        </span>┃<span style=\"font-weight: bold\"> processed_at                  </span>┃<span style=\"font-weight: bold\"> geometry                                                                         </span>┃<span style=\"font-weight: bold\"> area_m2      </span>┃<span style=\"font-weight: bold\"> centroid_lat </span>┃<span style=\"font-weight: bold\"> centroid_lon </span>┃<span style=\"font-weight: bold\"> h3_index_8         </span>┃<span style=\"font-weight: bold\"> unified_id </span>┃<span style=\"font-weight: bold\"> source_area_m2 </span>┃<span style=\"font-weight: bold\"> capacity_mw </span>┃<span style=\"font-weight: bold\"> install_date </span>┃\n",
       "┡━━━━━━━━━━━━━━━━━━━━━━━━━━━━━━━━━━━━━╇━━━━━━━━━━━━━━━━━━━━━━━━━━━━━━━╇━━━━━━━━━━━━━━━━━━━━━━━━━━━━━━━━━━━━━━━━━━━━━━━━━━━━━━━━━━━━━━━━━━━━━━━━━━━━━━━━━━╇━━━━━━━━━━━━━━╇━━━━━━━━━━━━━━╇━━━━━━━━━━━━━━╇━━━━━━━━━━━━━━━━━━━━╇━━━━━━━━━━━━╇━━━━━━━━━━━━━━━━╇━━━━━━━━━━━━━╇━━━━━━━━━━━━━━┩\n",
       "│ <span style=\"color: #7f7f7f; text-decoration-color: #7f7f7f\">string</span>                              │ <span style=\"color: #7f7f7f; text-decoration-color: #7f7f7f\">timestamp('UTC', 6)</span>           │ <span style=\"color: #7f7f7f; text-decoration-color: #7f7f7f\">string</span>                                                                           │ <span style=\"color: #7f7f7f; text-decoration-color: #7f7f7f\">float64</span>      │ <span style=\"color: #7f7f7f; text-decoration-color: #7f7f7f\">float64</span>      │ <span style=\"color: #7f7f7f; text-decoration-color: #7f7f7f\">float64</span>      │ <span style=\"color: #7f7f7f; text-decoration-color: #7f7f7f\">int64</span>              │ <span style=\"color: #7f7f7f; text-decoration-color: #7f7f7f\">string</span>     │ <span style=\"color: #7f7f7f; text-decoration-color: #7f7f7f\">float64</span>        │ <span style=\"color: #7f7f7f; text-decoration-color: #7f7f7f\">float64</span>     │ <span style=\"color: #7f7f7f; text-decoration-color: #7f7f7f\">string</span>       │\n",
       "├─────────────────────────────────────┼───────────────────────────────┼──────────────────────────────────────────────────────────────────────────────────┼──────────────┼──────────────┼──────────────┼────────────────────┼────────────┼────────────────┼─────────────┼──────────────┤\n",
       "│ <span style=\"color: #008000; text-decoration-color: #008000\">global_pv_inventory_sent2_spot_2021</span> │ <span style=\"color: #800080; text-decoration-color: #800080\">2025-09-26 03:24:11.103+00:00</span> │ <span style=\"color: #008000; text-decoration-color: #008000\">POLYGON ((21.614604005422446 38.11466204732934, 21.614661136097887 38.114626492…</span> │ <span style=\"color: #008080; text-decoration-color: #008080; font-weight: bold\">21958.162864</span> │    <span style=\"color: #008080; text-decoration-color: #008080; font-weight: bold\">38.115039</span> │    <span style=\"color: #008080; text-decoration-color: #008080; font-weight: bold\">21.615342</span> │ <span style=\"color: #008080; text-decoration-color: #008080; font-weight: bold\">613600967155253247</span> │ <span style=\"color: #008000; text-decoration-color: #008000\">0.0       </span> │   <span style=\"color: #008080; text-decoration-color: #008080; font-weight: bold\">13592.361843</span> │    <span style=\"color: #008080; text-decoration-color: #008080; font-weight: bold\">1.201704</span> │ <span style=\"color: #7f7f7f; text-decoration-color: #7f7f7f\">~</span>            │\n",
       "│ <span style=\"color: #008000; text-decoration-color: #008000\">global_pv_inventory_sent2_spot_2021</span> │ <span style=\"color: #800080; text-decoration-color: #800080\">2025-09-26 03:24:11.103+00:00</span> │ <span style=\"color: #008000; text-decoration-color: #008000\">POLYGON ((6.379356223001148 50.19216226866618, 6.379386869088315 50.19213902072…</span> │  <span style=\"color: #008080; text-decoration-color: #008080; font-weight: bold\">8323.457214</span> │    <span style=\"color: #008080; text-decoration-color: #008080; font-weight: bold\">50.191844</span> │     <span style=\"color: #008080; text-decoration-color: #008080; font-weight: bold\">6.379806</span> │ <span style=\"color: #008080; text-decoration-color: #008080; font-weight: bold\">613046147732209663</span> │ <span style=\"color: #008000; text-decoration-color: #008000\">1.0       </span> │    <span style=\"color: #008080; text-decoration-color: #008080; font-weight: bold\">3411.622302</span> │    <span style=\"color: #008080; text-decoration-color: #008080; font-weight: bold\">0.309810</span> │ <span style=\"color: #7f7f7f; text-decoration-color: #7f7f7f\">~</span>            │\n",
       "│ <span style=\"color: #008000; text-decoration-color: #008000\">global_pv_inventory_sent2_spot_2021</span> │ <span style=\"color: #800080; text-decoration-color: #800080\">2025-09-26 03:24:11.103+00:00</span> │ <span style=\"color: #008000; text-decoration-color: #008000\">POLYGON ((-0.896474365596765 52.03906610129858, -0.896514092788355 52.039104844…</span> │ <span style=\"color: #008080; text-decoration-color: #008080; font-weight: bold\">55207.651881</span> │    <span style=\"color: #008080; text-decoration-color: #008080; font-weight: bold\">52.038515</span> │    <span style=\"color: #008080; text-decoration-color: #008080; font-weight: bold\">-0.895182</span> │ <span style=\"color: #008080; text-decoration-color: #008080; font-weight: bold\">612935798196535295</span> │ <span style=\"color: #008000; text-decoration-color: #008000\">2.0       </span> │   <span style=\"color: #008080; text-decoration-color: #008080; font-weight: bold\">20889.852876</span> │    <span style=\"color: #008080; text-decoration-color: #008080; font-weight: bold\">1.752301</span> │ <span style=\"color: #7f7f7f; text-decoration-color: #7f7f7f\">~</span>            │\n",
       "│ <span style=\"color: #008000; text-decoration-color: #008000\">global_pv_inventory_sent2_spot_2021</span> │ <span style=\"color: #800080; text-decoration-color: #800080\">2025-09-26 03:24:11.103+00:00</span> │ <span style=\"color: #008000; text-decoration-color: #008000\">POLYGON ((21.655447685837466 38.108830922166376, 21.655447082367587 38.10876338…</span> │  <span style=\"color: #008080; text-decoration-color: #008080; font-weight: bold\">6710.398589</span> │    <span style=\"color: #008080; text-decoration-color: #008080; font-weight: bold\">38.108923</span> │    <span style=\"color: #008080; text-decoration-color: #008080; font-weight: bold\">21.655906</span> │ <span style=\"color: #008080; text-decoration-color: #008080; font-weight: bold\">613600967341899775</span> │ <span style=\"color: #008000; text-decoration-color: #008000\">3.0       </span> │    <span style=\"color: #008080; text-decoration-color: #008080; font-weight: bold\">4154.511624</span> │    <span style=\"color: #008080; text-decoration-color: #008080; font-weight: bold\">0.397576</span> │ <span style=\"color: #7f7f7f; text-decoration-color: #7f7f7f\">~</span>            │\n",
       "│ <span style=\"color: #008000; text-decoration-color: #008000\">global_pv_inventory_sent2_spot_2021</span> │ <span style=\"color: #800080; text-decoration-color: #800080\">2025-09-26 03:24:11.103+00:00</span> │ <span style=\"color: #008000; text-decoration-color: #008000\">POLYGON ((14.279220062197856 50.517537062657965, 14.279242655716823 50.51744282…</span> │ <span style=\"color: #008080; text-decoration-color: #008080; font-weight: bold\">11858.756553</span> │    <span style=\"color: #008080; text-decoration-color: #008080; font-weight: bold\">50.517348</span> │    <span style=\"color: #008080; text-decoration-color: #008080; font-weight: bold\">14.279998</span> │ <span style=\"color: #008080; text-decoration-color: #008080; font-weight: bold\">613021008586080255</span> │ <span style=\"color: #008000; text-decoration-color: #008000\">4.0       </span> │    <span style=\"color: #008080; text-decoration-color: #008080; font-weight: bold\">4794.474966</span> │    <span style=\"color: #008080; text-decoration-color: #008080; font-weight: bold\">0.440007</span> │ <span style=\"color: #7f7f7f; text-decoration-color: #7f7f7f\">~</span>            │\n",
       "└─────────────────────────────────────┴───────────────────────────────┴──────────────────────────────────────────────────────────────────────────────────┴──────────────┴──────────────┴──────────────┴────────────────────┴────────────┴────────────────┴─────────────┴──────────────┘\n",
       "</pre>\n"
      ],
      "text/plain": [
       "┏━━━━━━━━━━━━━━━━━━━━━━━━━━━━━━━━━━━━━┳━━━━━━━━━━━━━━━━━━━━━━━━━━━━━━━┳━━━━━━━━━━━━━━━━━━━━━━━━━━━━━━━━━━━━━━━━━━━━━━━━━━━━━━━━━━━━━━━━━━━━━━━━━━━━━━━━━━┳━━━━━━━━━━━━━━┳━━━━━━━━━━━━━━┳━━━━━━━━━━━━━━┳━━━━━━━━━━━━━━━━━━━━┳━━━━━━━━━━━━┳━━━━━━━━━━━━━━━━┳━━━━━━━━━━━━━┳━━━━━━━━━━━━━━┓\n",
       "┃\u001b[1m \u001b[0m\u001b[1mdataset_name\u001b[0m\u001b[1m                       \u001b[0m\u001b[1m \u001b[0m┃\u001b[1m \u001b[0m\u001b[1mprocessed_at\u001b[0m\u001b[1m                 \u001b[0m\u001b[1m \u001b[0m┃\u001b[1m \u001b[0m\u001b[1mgeometry\u001b[0m\u001b[1m                                                                        \u001b[0m\u001b[1m \u001b[0m┃\u001b[1m \u001b[0m\u001b[1marea_m2\u001b[0m\u001b[1m     \u001b[0m\u001b[1m \u001b[0m┃\u001b[1m \u001b[0m\u001b[1mcentroid_lat\u001b[0m\u001b[1m \u001b[0m┃\u001b[1m \u001b[0m\u001b[1mcentroid_lon\u001b[0m\u001b[1m \u001b[0m┃\u001b[1m \u001b[0m\u001b[1mh3_index_8\u001b[0m\u001b[1m        \u001b[0m\u001b[1m \u001b[0m┃\u001b[1m \u001b[0m\u001b[1munified_id\u001b[0m\u001b[1m \u001b[0m┃\u001b[1m \u001b[0m\u001b[1msource_area_m2\u001b[0m\u001b[1m \u001b[0m┃\u001b[1m \u001b[0m\u001b[1mcapacity_mw\u001b[0m\u001b[1m \u001b[0m┃\u001b[1m \u001b[0m\u001b[1minstall_date\u001b[0m\u001b[1m \u001b[0m┃\n",
       "┡━━━━━━━━━━━━━━━━━━━━━━━━━━━━━━━━━━━━━╇━━━━━━━━━━━━━━━━━━━━━━━━━━━━━━━╇━━━━━━━━━━━━━━━━━━━━━━━━━━━━━━━━━━━━━━━━━━━━━━━━━━━━━━━━━━━━━━━━━━━━━━━━━━━━━━━━━━╇━━━━━━━━━━━━━━╇━━━━━━━━━━━━━━╇━━━━━━━━━━━━━━╇━━━━━━━━━━━━━━━━━━━━╇━━━━━━━━━━━━╇━━━━━━━━━━━━━━━━╇━━━━━━━━━━━━━╇━━━━━━━━━━━━━━┩\n",
       "│ \u001b[2mstring\u001b[0m                              │ \u001b[2mtimestamp('UTC', 6)\u001b[0m           │ \u001b[2mstring\u001b[0m                                                                           │ \u001b[2mfloat64\u001b[0m      │ \u001b[2mfloat64\u001b[0m      │ \u001b[2mfloat64\u001b[0m      │ \u001b[2mint64\u001b[0m              │ \u001b[2mstring\u001b[0m     │ \u001b[2mfloat64\u001b[0m        │ \u001b[2mfloat64\u001b[0m     │ \u001b[2mstring\u001b[0m       │\n",
       "├─────────────────────────────────────┼───────────────────────────────┼──────────────────────────────────────────────────────────────────────────────────┼──────────────┼──────────────┼──────────────┼────────────────────┼────────────┼────────────────┼─────────────┼──────────────┤\n",
       "│ \u001b[32mglobal_pv_inventory_sent2_spot_2021\u001b[0m │ \u001b[35m2025-09-26 03:24:11.103+00:00\u001b[0m │ \u001b[32mPOLYGON ((21.614604005422446 38.11466204732934, 21.614661136097887 38.114626492…\u001b[0m │ \u001b[1;36m21958.162864\u001b[0m │    \u001b[1;36m38.115039\u001b[0m │    \u001b[1;36m21.615342\u001b[0m │ \u001b[1;36m613600967155253247\u001b[0m │ \u001b[32m0.0       \u001b[0m │   \u001b[1;36m13592.361843\u001b[0m │    \u001b[1;36m1.201704\u001b[0m │ \u001b[2m~\u001b[0m            │\n",
       "│ \u001b[32mglobal_pv_inventory_sent2_spot_2021\u001b[0m │ \u001b[35m2025-09-26 03:24:11.103+00:00\u001b[0m │ \u001b[32mPOLYGON ((6.379356223001148 50.19216226866618, 6.379386869088315 50.19213902072…\u001b[0m │  \u001b[1;36m8323.457214\u001b[0m │    \u001b[1;36m50.191844\u001b[0m │     \u001b[1;36m6.379806\u001b[0m │ \u001b[1;36m613046147732209663\u001b[0m │ \u001b[32m1.0       \u001b[0m │    \u001b[1;36m3411.622302\u001b[0m │    \u001b[1;36m0.309810\u001b[0m │ \u001b[2m~\u001b[0m            │\n",
       "│ \u001b[32mglobal_pv_inventory_sent2_spot_2021\u001b[0m │ \u001b[35m2025-09-26 03:24:11.103+00:00\u001b[0m │ \u001b[32mPOLYGON ((-0.896474365596765 52.03906610129858, -0.896514092788355 52.039104844…\u001b[0m │ \u001b[1;36m55207.651881\u001b[0m │    \u001b[1;36m52.038515\u001b[0m │    \u001b[1;36m-0.895182\u001b[0m │ \u001b[1;36m612935798196535295\u001b[0m │ \u001b[32m2.0       \u001b[0m │   \u001b[1;36m20889.852876\u001b[0m │    \u001b[1;36m1.752301\u001b[0m │ \u001b[2m~\u001b[0m            │\n",
       "│ \u001b[32mglobal_pv_inventory_sent2_spot_2021\u001b[0m │ \u001b[35m2025-09-26 03:24:11.103+00:00\u001b[0m │ \u001b[32mPOLYGON ((21.655447685837466 38.108830922166376, 21.655447082367587 38.10876338…\u001b[0m │  \u001b[1;36m6710.398589\u001b[0m │    \u001b[1;36m38.108923\u001b[0m │    \u001b[1;36m21.655906\u001b[0m │ \u001b[1;36m613600967341899775\u001b[0m │ \u001b[32m3.0       \u001b[0m │    \u001b[1;36m4154.511624\u001b[0m │    \u001b[1;36m0.397576\u001b[0m │ \u001b[2m~\u001b[0m            │\n",
       "│ \u001b[32mglobal_pv_inventory_sent2_spot_2021\u001b[0m │ \u001b[35m2025-09-26 03:24:11.103+00:00\u001b[0m │ \u001b[32mPOLYGON ((14.279220062197856 50.517537062657965, 14.279242655716823 50.51744282…\u001b[0m │ \u001b[1;36m11858.756553\u001b[0m │    \u001b[1;36m50.517348\u001b[0m │    \u001b[1;36m14.279998\u001b[0m │ \u001b[1;36m613021008586080255\u001b[0m │ \u001b[32m4.0       \u001b[0m │    \u001b[1;36m4794.474966\u001b[0m │    \u001b[1;36m0.440007\u001b[0m │ \u001b[2m~\u001b[0m            │\n",
       "└─────────────────────────────────────┴───────────────────────────────┴──────────────────────────────────────────────────────────────────────────────────┴──────────────┴──────────────┴──────────────┴────────────────────┴────────────┴────────────────┴─────────────┴──────────────┘"
      ]
     },
     "execution_count": 6,
     "metadata": {},
     "output_type": "execute_result"
    }
   ],
   "source": [
    "stg_pv = con.table(\"stg_pv_consolidated\")\n",
    "stg_pv.head()"
   ]
  },
  {
   "cell_type": "code",
   "execution_count": 7,
   "id": "deacb2cd",
   "metadata": {},
   "outputs": [
    {
     "data": {
      "text/html": [
       "<pre style=\"white-space:pre;overflow-x:auto;line-height:normal;font-family:Menlo,'DejaVu Sans Mono',consolas,'Courier New',monospace\">┏━━━━━━━━━━━━━━━━━━━━┳━━━━━━━━━━━━━━┓\n",
       "┃<span style=\"font-weight: bold\"> h3_index_8         </span>┃<span style=\"font-weight: bold\"> pv_area      </span>┃\n",
       "┡━━━━━━━━━━━━━━━━━━━━╇━━━━━━━━━━━━━━┩\n",
       "│ <span style=\"color: #7f7f7f; text-decoration-color: #7f7f7f\">int64</span>              │ <span style=\"color: #7f7f7f; text-decoration-color: #7f7f7f\">float64</span>      │\n",
       "├────────────────────┼──────────────┤\n",
       "│ <span style=\"color: #008080; text-decoration-color: #008080; font-weight: bold\">613134297504677887</span> │ <span style=\"color: #008080; text-decoration-color: #008080; font-weight: bold\">3.778312e+08</span> │\n",
       "│ <span style=\"color: #008080; text-decoration-color: #008080; font-weight: bold\">613133048860377087</span> │ <span style=\"color: #008080; text-decoration-color: #008080; font-weight: bold\">2.476448e+08</span> │\n",
       "│ <span style=\"color: #008080; text-decoration-color: #008080; font-weight: bold\">613132382727307263</span> │ <span style=\"color: #008080; text-decoration-color: #008080; font-weight: bold\">2.232192e+08</span> │\n",
       "│ <span style=\"color: #008080; text-decoration-color: #008080; font-weight: bold\">613132382718918655</span> │ <span style=\"color: #008080; text-decoration-color: #008080; font-weight: bold\">1.814395e+08</span> │\n",
       "│ <span style=\"color: #008080; text-decoration-color: #008080; font-weight: bold\">613139556146872319</span> │ <span style=\"color: #008080; text-decoration-color: #008080; font-weight: bold\">1.419494e+08</span> │\n",
       "└────────────────────┴──────────────┘\n",
       "</pre>\n"
      ],
      "text/plain": [
       "┏━━━━━━━━━━━━━━━━━━━━┳━━━━━━━━━━━━━━┓\n",
       "┃\u001b[1m \u001b[0m\u001b[1mh3_index_8\u001b[0m\u001b[1m        \u001b[0m\u001b[1m \u001b[0m┃\u001b[1m \u001b[0m\u001b[1mpv_area\u001b[0m\u001b[1m     \u001b[0m\u001b[1m \u001b[0m┃\n",
       "┡━━━━━━━━━━━━━━━━━━━━╇━━━━━━━━━━━━━━┩\n",
       "│ \u001b[2mint64\u001b[0m              │ \u001b[2mfloat64\u001b[0m      │\n",
       "├────────────────────┼──────────────┤\n",
       "│ \u001b[1;36m613134297504677887\u001b[0m │ \u001b[1;36m3.778312e+08\u001b[0m │\n",
       "│ \u001b[1;36m613133048860377087\u001b[0m │ \u001b[1;36m2.476448e+08\u001b[0m │\n",
       "│ \u001b[1;36m613132382727307263\u001b[0m │ \u001b[1;36m2.232192e+08\u001b[0m │\n",
       "│ \u001b[1;36m613132382718918655\u001b[0m │ \u001b[1;36m1.814395e+08\u001b[0m │\n",
       "│ \u001b[1;36m613139556146872319\u001b[0m │ \u001b[1;36m1.419494e+08\u001b[0m │\n",
       "└────────────────────┴──────────────┘"
      ]
     },
     "execution_count": 7,
     "metadata": {},
     "output_type": "execute_result"
    }
   ],
   "source": [
    "from ibis import _\n",
    "stg_pv.aggregate(by=[\"h3_index_8\"], pv_area=_.area_m2.sum()).order_by(ibis.desc(\"pv_area\")).head()"
   ]
  },
  {
   "cell_type": "code",
   "execution_count": 9,
   "id": "eaac388e",
   "metadata": {},
   "outputs": [
    {
     "data": {
      "text/html": [
       "<pre style=\"white-space:pre;overflow-x:auto;line-height:normal;font-family:Menlo,'DejaVu Sans Mono',consolas,'Courier New',monospace\">┏━━━━━━━━━━━━━━━━━━━━━━━━━━━━━━━━━━┓\n",
       "┃<span style=\"font-weight: bold\"> h3_cell_to_parent(h3_index_8, 6) </span>┃\n",
       "┡━━━━━━━━━━━━━━━━━━━━━━━━━━━━━━━━━━┩\n",
       "│ <span style=\"color: #7f7f7f; text-decoration-color: #7f7f7f\">int64</span>                            │\n",
       "├──────────────────────────────────┤\n",
       "│               <span style=\"color: #008080; text-decoration-color: #008080; font-weight: bold\">604593768015855615</span> │\n",
       "│               <span style=\"color: #008080; text-decoration-color: #008080; font-weight: bold\">604038948569743359</span> │\n",
       "│               <span style=\"color: #008080; text-decoration-color: #008080; font-weight: bold\">603928599048749055</span> │\n",
       "│               <span style=\"color: #008080; text-decoration-color: #008080; font-weight: bold\">604593768150073343</span> │\n",
       "│               <span style=\"color: #008080; text-decoration-color: #008080; font-weight: bold\">604013809455071231</span> │\n",
       "└──────────────────────────────────┘\n",
       "</pre>\n"
      ],
      "text/plain": [
       "┏━━━━━━━━━━━━━━━━━━━━━━━━━━━━━━━━━━┓\n",
       "┃\u001b[1m \u001b[0m\u001b[1mh3_cell_to_parent(h3_index_8, 6)\u001b[0m\u001b[1m \u001b[0m┃\n",
       "┡━━━━━━━━━━━━━━━━━━━━━━━━━━━━━━━━━━┩\n",
       "│ \u001b[2mint64\u001b[0m                            │\n",
       "├──────────────────────────────────┤\n",
       "│               \u001b[1;36m604593768015855615\u001b[0m │\n",
       "│               \u001b[1;36m604038948569743359\u001b[0m │\n",
       "│               \u001b[1;36m603928599048749055\u001b[0m │\n",
       "│               \u001b[1;36m604593768150073343\u001b[0m │\n",
       "│               \u001b[1;36m604013809455071231\u001b[0m │\n",
       "└──────────────────────────────────┘"
      ]
     },
     "execution_count": 9,
     "metadata": {},
     "output_type": "execute_result"
    }
   ],
   "source": [
    "# load h3 duckdb extension and calculate coarser h3 index\n",
    "con.load_extension(\"h3\")\n",
    "# test returning column of h3 cells \n",
    "stg_pv.sql(\"SELECT h3_cell_to_parent(h3_index_8, 6) FROM stg_pv_consolidated LIMIT 10\").head()"
   ]
  },
  {
   "cell_type": "markdown",
   "id": "c615b16c",
   "metadata": {},
   "source": [
    "## Hugging Face Hub\n",
    "\n",
    "The [Hugging Face Hub](https://huggingface.co/docs/hub/index) is a Machine Learning platform with hundreds of thousands of open source and publicly available datasets, models, and interactive model demos. \n",
    "\n",
    "\n",
    "## Google S2 Geometric Spatial Indexing\n",
    "\n",
    "See python S2 library: [S2Cell Docs](https://docs.s2cell.aliddell.com/en/stable/index.html)\n",
    "\n",
    "See details: https://learn.microsoft.com/en-us/kusto/query/geo-point-to-s2cell-function?view=microsoft-fabric"
   ]
  },
  {
   "cell_type": "code",
   "execution_count": null,
   "id": "e514b39b",
   "metadata": {},
   "outputs": [],
   "source": [
    "# Querying (remote) Hub files with DuckDB\n",
    "\n",
    "from huggingface_hub import HfFileSystem\n",
    "import duckdb\n",
    "\n",
    "fs = HfFileSystem()\n",
    "duckdb.register_filesystem(fs)\n",
    "# Query a remote file and get the result back as a dataframe\n",
    "fs_query_file = \"hf://datasets/my-username/my-dataset-repo/data_dir/data.parquet\"\n",
    "df = duckdb.query(f\"SELECT * FROM '{fs_query_file}' LIMIT 10\").df()"
   ]
  },
  {
   "cell_type": "code",
   "execution_count": null,
   "id": "103ffd94",
   "metadata": {},
   "outputs": [],
   "source": [
    "# temp for quick dev iteration: use local geoparquet export of stg_pv_consolidated"
   ]
  },
  {
   "cell_type": "code",
   "execution_count": null,
   "id": "2f32a553",
   "metadata": {},
   "outputs": [],
   "source": []
  }
 ],
 "metadata": {
  "kernelspec": {
   "display_name": "lightning-lance",
   "language": "python",
   "name": "python3"
  },
  "language_info": {
   "codemirror_mode": {
    "name": "ipython",
    "version": 3
   },
   "file_extension": ".py",
   "mimetype": "text/x-python",
   "name": "python",
   "nbconvert_exporter": "python",
   "pygments_lexer": "ipython3",
   "version": "3.12.11"
  }
 },
 "nbformat": 4,
 "nbformat_minor": 5
}

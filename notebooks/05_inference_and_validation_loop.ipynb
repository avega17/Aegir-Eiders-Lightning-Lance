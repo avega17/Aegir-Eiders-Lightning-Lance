{
 "cells": [
  {"cell_type":"markdown","metadata":{},"source":["# Inference & Validation Loop (Outline)\n","- Run trained model on new AOIs\n","- Validate against VHR\n","- Add validated detections back to prompts for Mask Factory (flywheel)"]}
 ],
 "metadata": {"kernelspec": {"display_name": "Python 3", "language": "python", "name": "python3"}},
 "nbformat": 4,
 "nbformat_minor": 5
}


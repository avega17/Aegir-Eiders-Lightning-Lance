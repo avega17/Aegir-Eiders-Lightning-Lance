{
 "cells": [
  {"cell_type":"markdown","metadata":{},"source":["# Lance Training Data Browser (Outline)\n","- Connect to ./data/lancedb\n","- Preview training_data schema\n","- Query by S2/date/sensor metadata\n","- Render thumbnails"]}
 ],
 "metadata": {"kernelspec": {"display_name": "Python 3", "language": "python", "name": "python3"}},
 "nbformat": 4,
 "nbformat_minor": 5
}


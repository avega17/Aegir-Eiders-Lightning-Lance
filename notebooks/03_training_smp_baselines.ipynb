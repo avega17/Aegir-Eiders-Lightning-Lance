{
 "cells": [
  {"cell_type":"markdown","metadata":{},"source":["# Training SMP Baselines (Outline)\n","- Configure DataModule\n","- Define LightningModule\n","- Log to W&B\n","- Track metrics and artifacts (checkpoints stored outside W&B)"]}
 ],
 "metadata": {"kernelspec": {"display_name": "Python 3", "language": "python", "name": "python3"}},
 "nbformat": 4,
 "nbformat_minor": 5
}


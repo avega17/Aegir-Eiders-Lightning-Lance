{
 "cells": [
  {
   "cell_type": "markdown",
   "metadata": {},
   "source": [
    "# Mask Factory Demo (Outline)\n",
    "- Load prompts from DuckLake ingest dataflow\n",
    "- Load VHR chips\n",
    "- Generate masks with segment-geospatial (SAM/SAM-HQ/SAM2)\n",
    "- Visualize chips + masks; discuss refinement steps"
   ]
  }
 ],
 "metadata": {
  "kernelspec": {
   "display_name": "Python 3",
   "language": "python",
   "name": "python3"
  }
 },
 "nbformat": 4,
 "nbformat_minor": 5
}
